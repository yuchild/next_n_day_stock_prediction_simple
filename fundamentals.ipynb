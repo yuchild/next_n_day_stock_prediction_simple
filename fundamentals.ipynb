{
 "cells": [
  {
   "cell_type": "code",
   "execution_count": 1,
   "metadata": {},
   "outputs": [],
   "source": [
    "import yfinance as yf\n",
    "import pandas as pd\n",
    "from numpy import where\n",
    "from pandas import concat"
   ]
  },
  {
   "cell_type": "code",
   "execution_count": 2,
   "metadata": {},
   "outputs": [],
   "source": [
    "# write function to download table from yfinance https://pypi.org/project/yfinance/\n",
    "# pip install yfinance (to pip install)\n",
    "# pip install yfinance --upgrade (to upgrade, latest version 0.1.62 as of 2021-07-09)\n",
    "\n",
    "def get_tables(stock_list):\n",
    "    \"\"\"\n",
    "    Function takes list object and pickles the dataframes for use later\n",
    "    Inputs: stock_list (python list object of lower case stock ticker symbols)\n",
    "    Ouputs: stores .pkl object in data folder\n",
    "    \"\"\"\n",
    "    for stock in stock_list:\n",
    "        stock_df = yf.Ticker(stock.upper()).history(period=\"max\")\n",
    "        stock_df.to_pickle(f'./data/{stock.lower()}_df.pkl')\n",
    "        \n",
    "# list of common stock ticker symbols\n",
    "stock_list = ['aapl', 'ibm', 'tsla', 'vgt']\n",
    "\n",
    "# call function to pickle dataframes after downloads\n",
    "get_tables(stock_list)"
   ]
  },
  {
   "cell_type": "code",
   "execution_count": null,
   "metadata": {},
   "outputs": [],
   "source": [
    "# write function to transform dataframe and split for train/test dataframe sets\n",
    "\n",
    "def data(stock, days_ahead):\n",
    "    \"\"\"\n",
    "    Inputs: stock, string of stock symbol like 'aapl' or 'AAPL'\n",
    "            days_ahead, int days prediction ahead, 1 for 1 day ahead, 2 for 2 days ahead, etc...\n",
    "    Output: X_train, X_test, y_train, y_test (for modeling), stock_df (DataFrame)\n",
    "    \"\"\"\n",
    "    \n",
    "    # load stock data pickle file from data folder\n",
    "    stock_df = pd.read_pickle(f'./data/{stock.lower()}_df.pkl')\n",
    "    \n",
    "    # some open values are 0.00, set as their close value, otherwise leave as open value\n",
    "    # this is done so we don't divide by zero, see next line for 'oc' calculation\n",
    "    stock_df['Open'] = where(stock_df['Open'] == 0, stock_df['Close'], stock_df['Open'])\n",
    "    \n",
    "    # calculate daily open close % difference\n",
    "    stock_df['oc'] = (stock_df.Close - stock_df.Open) / stock_df.Open\n",
    "    \n",
    "    # calculate daily high low % difference\n",
    "    stock_df['hl'] = (stock_df.High - stock_df.Low) / stock_df.Low\n",
    "    \n",
    "    # % change from pervious day Close\n",
    "    stock_df['prev_change'] = stock_df['Close'].pct_change()\n",
    "    \n",
    "    # 13 day rolling moving standard deviation of prev_change\n",
    "    stock_df['13std'] = stock_df.prev_change.rolling(13).std()\n",
    "    \n",
    "    # 13 day rolling moving of prev_change\n",
    "    stock_df['13mva'] = stock_df.prev_change.rolling(13).mean()\n",
    "    \n",
    "    # Direction (target feature column)\n",
    "    stock_df['direction'] = where(stock_df['prev_change'].shift(-days_ahead) > stock_df['prev_change'], 1, -1)\n",
    "    \n",
    "    # Drop nulls generated from rolling columns\n",
    "    stockdf.dropna(axis=0, inplace=True)\n",
    "    \n",
    "    # \n",
    "    "
   ]
  }
 ],
 "metadata": {
  "kernelspec": {
   "display_name": "Python 3",
   "language": "python",
   "name": "python3"
  },
  "language_info": {
   "codemirror_mode": {
    "name": "ipython",
    "version": 3
   },
   "file_extension": ".py",
   "mimetype": "text/x-python",
   "name": "python",
   "nbconvert_exporter": "python",
   "pygments_lexer": "ipython3",
   "version": "3.8.10"
  }
 },
 "nbformat": 4,
 "nbformat_minor": 4
}
